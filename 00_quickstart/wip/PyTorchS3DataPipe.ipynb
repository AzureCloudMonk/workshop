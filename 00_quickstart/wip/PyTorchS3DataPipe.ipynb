{
 "cells": [
  {
   "cell_type": "code",
   "execution_count": 4,
   "id": "14562155-7f8e-49bf-8c43-545c1f11f7b6",
   "metadata": {
    "tags": []
   },
   "outputs": [
    {
     "name": "stdout",
     "output_type": "stream",
     "text": [
      "Collecting torchdata\n",
      "  Using cached torchdata-0.5.1-cp310-cp310-manylinux_2_17_x86_64.manylinux2014_x86_64.whl (4.6 MB)\n",
      "Requirement already satisfied: torch==1.13.1 in /opt/conda/lib/python3.10/site-packages (from torchdata) (1.13.1)\n",
      "Collecting portalocker>=2.0.0\n",
      "  Using cached portalocker-2.7.0-py2.py3-none-any.whl (15 kB)\n",
      "Requirement already satisfied: requests in /opt/conda/lib/python3.10/site-packages (from torchdata) (2.28.1)\n",
      "Requirement already satisfied: urllib3>=1.25 in /opt/conda/lib/python3.10/site-packages (from torchdata) (1.26.13)\n",
      "Requirement already satisfied: nvidia-cublas-cu11==11.10.3.66 in /opt/conda/lib/python3.10/site-packages (from torch==1.13.1->torchdata) (11.10.3.66)\n",
      "Requirement already satisfied: nvidia-cuda-runtime-cu11==11.7.99 in /opt/conda/lib/python3.10/site-packages (from torch==1.13.1->torchdata) (11.7.99)\n",
      "Requirement already satisfied: typing-extensions in /opt/conda/lib/python3.10/site-packages (from torch==1.13.1->torchdata) (4.3.0)\n",
      "Requirement already satisfied: nvidia-cuda-nvrtc-cu11==11.7.99 in /opt/conda/lib/python3.10/site-packages (from torch==1.13.1->torchdata) (11.7.99)\n",
      "Requirement already satisfied: nvidia-cudnn-cu11==8.5.0.96 in /opt/conda/lib/python3.10/site-packages (from torch==1.13.1->torchdata) (8.5.0.96)\n",
      "Requirement already satisfied: setuptools in /opt/conda/lib/python3.10/site-packages (from nvidia-cublas-cu11==11.10.3.66->torch==1.13.1->torchdata) (63.4.1)\n",
      "Requirement already satisfied: wheel in /opt/conda/lib/python3.10/site-packages (from nvidia-cublas-cu11==11.10.3.66->torch==1.13.1->torchdata) (0.37.1)\n",
      "Requirement already satisfied: charset-normalizer<3,>=2 in /opt/conda/lib/python3.10/site-packages (from requests->torchdata) (2.0.4)\n",
      "Requirement already satisfied: idna<4,>=2.5 in /opt/conda/lib/python3.10/site-packages (from requests->torchdata) (3.3)\n",
      "Requirement already satisfied: certifi>=2017.4.17 in /opt/conda/lib/python3.10/site-packages (from requests->torchdata) (2022.9.24)\n",
      "Installing collected packages: portalocker, torchdata\n",
      "Successfully installed portalocker-2.7.0 torchdata-0.5.1\n",
      "\u001b[33mWARNING: Running pip as the 'root' user can result in broken permissions and conflicting behaviour with the system package manager. It is recommended to use a virtual environment instead: https://pip.pypa.io/warnings/venv\u001b[0m\u001b[33m\n",
      "\u001b[0m\n",
      "\u001b[1m[\u001b[0m\u001b[34;49mnotice\u001b[0m\u001b[1;39;49m]\u001b[0m\u001b[39;49m A new release of pip available: \u001b[0m\u001b[31;49m22.3.1\u001b[0m\u001b[39;49m -> \u001b[0m\u001b[32;49m23.0\u001b[0m\n",
      "\u001b[1m[\u001b[0m\u001b[34;49mnotice\u001b[0m\u001b[1;39;49m]\u001b[0m\u001b[39;49m To update, run: \u001b[0m\u001b[32;49mpip install --upgrade pip\u001b[0m\n"
     ]
    }
   ],
   "source": [
    "!pip install torchdata #iopath"
   ]
  },
  {
   "cell_type": "code",
   "execution_count": 5,
   "id": "5d2bb0f5-f362-42fb-889d-b011aecbbb4a",
   "metadata": {
    "tags": []
   },
   "outputs": [
    {
     "name": "stdout",
     "output_type": "stream",
     "text": [
      "3.10.6 (main, Oct  7 2022, 20:19:58) [GCC 11.2.0]\n"
     ]
    }
   ],
   "source": [
    "import sys\n",
    "\n",
    "print(sys.version)"
   ]
  },
  {
   "cell_type": "code",
   "execution_count": 30,
   "id": "a6cd4176-1551-44b8-b400-3292be442030",
   "metadata": {
    "tags": []
   },
   "outputs": [],
   "source": [
    "!aws s3 ls --recursive s3://dsoaws/bloom/output/model_from_notebook_ray/"
   ]
  },
  {
   "cell_type": "code",
   "execution_count": 6,
   "id": "743b677b-eff9-489f-9bb6-1355eb902505",
   "metadata": {
    "tags": []
   },
   "outputs": [],
   "source": [
    "!mkdir -p /etc/pki/tls/certs && cp /etc/ssl/certs/ca-certificates.crt /etc/pki/tls/certs/ca-bundle.crt\n"
   ]
  },
  {
   "cell_type": "code",
   "execution_count": 7,
   "id": "7f53674c-c434-42fc-8251-d210b968cd54",
   "metadata": {
    "tags": []
   },
   "outputs": [
    {
     "data": {
      "text/plain": [
       "S3FileListerIterDataPipe"
      ]
     },
     "execution_count": 7,
     "metadata": {},
     "output_type": "execute_result"
    }
   ],
   "source": [
    "import torchdata\n",
    "from torchdata.datapipes.iter import IterableWrapper\n",
    " \n",
    "S3_BUCKET = \"s3://dsoaws/data/train/part-algo-1-womens_clothing_ecommerce_reviews.csv\"\n",
    "    \n",
    "train_files = IterableWrapper([S3_BUCKET]).list_files_by_s3()\n",
    "train_files"
   ]
  },
  {
   "cell_type": "code",
   "execution_count": 8,
   "id": "74e73648-be25-42f9-97f9-30a7bc92df18",
   "metadata": {
    "tags": []
   },
   "outputs": [
    {
     "name": "stdout",
     "output_type": "stream",
     "text": [
      "s3://dsoaws/data/train/part-algo-1-womens_clothing_ecommerce_reviews.csv\n"
     ]
    }
   ],
   "source": [
    "from torchdata.datapipes.iter import IoPathFileOpener\n",
    "\n",
    "train_files = train_files.shuffle().cycle()\n",
    "\n",
    "print(next(iter(train_files)))"
   ]
  },
  {
   "cell_type": "code",
   "execution_count": 9,
   "id": "a52f0790-bc85-4359-ace0-ccbeb214d486",
   "metadata": {
    "tags": []
   },
   "outputs": [
    {
     "name": "stdout",
     "output_type": "stream",
     "text": [
      "('s3://dsoaws/data/train/part-algo-1-womens_clothing_ecommerce_reviews.csv', StreamWrapper<<_io.BytesIO object at 0x7f8bfd267d30>>)\n"
     ]
    }
   ],
   "source": [
    "from torchdata.datapipes.iter import S3FileLoader, IterableWrapper\n",
    "\n",
    "train_file_loader = S3FileLoader(train_files)\n",
    "\n",
    "print(next(iter(train_file_loader)))\n",
    "\n",
    "#     samples = tars.groupby(lambda x:     \n",
    "#                                os.path.basename(x[0]).split(\".\")[0],\n",
    "#                            group_size=2, guaranteed_group_size=2)\n",
    "#     dataset = samples.map(lambda x: \n",
    "#                   {'image': x[0][1].read(),\n",
    "#                    'label': x[0][1].read()})\n",
    "#     dataset = dataset.shuffle(buffer_size=10)"
   ]
  },
  {
   "cell_type": "code",
   "execution_count": 10,
   "id": "e05b56e5-481a-4748-bdad-518b6d2f38ac",
   "metadata": {
    "tags": []
   },
   "outputs": [],
   "source": [
    "# ERROR\n",
    "# ProfileNotFound: The config profile (saml) could not be found\n",
    "# This exception is thrown by __iter__ of IoPathFileOpenerIterDataPipe(mode='rb:gz', pathmgr=<iopath.common.file_io.PathManager object at 0x7f93429e7760>, source_datapipe=CyclerIterDataPipe)\n",
    "\n",
    "# tars = IoPathFileOpener(urls, mode=\"rb:gz\").load_from_tar()\n",
    "\n",
    "# print(next(iter(tars)))"
   ]
  },
  {
   "cell_type": "code",
   "execution_count": 15,
   "id": "8aa5845d-1fed-4bec-bd00-5435a3d59413",
   "metadata": {
    "tags": []
   },
   "outputs": [],
   "source": [
    "dataset = train_file_loader.map(lambda x: \n",
    "              {'image': x[0][1],\n",
    "               'label': x[0][1]})"
   ]
  },
  {
   "cell_type": "code",
   "execution_count": 18,
   "id": "d69e5dad-09c8-49c8-b8be-341d0c355903",
   "metadata": {
    "tags": []
   },
   "outputs": [
    {
     "data": {
      "text/plain": [
       "GrouperIterDataPipe"
      ]
     },
     "execution_count": 18,
     "metadata": {},
     "output_type": "execute_result"
    }
   ],
   "source": [
    "import os\n",
    "samples = dataset.groupby(lambda x: os.path.basename(x[0]).split(\".\")[0],\n",
    "                       group_size=2, guaranteed_group_size=2)\n",
    "\n",
    "samples"
   ]
  },
  {
   "cell_type": "code",
   "execution_count": 21,
   "id": "944fefcf-8ba7-4bb9-a22f-11372833d66b",
   "metadata": {
    "tags": []
   },
   "outputs": [
    {
     "ename": "KeyError",
     "evalue": "'\\nThis exception is thrown by __iter__ of GrouperIterDataPipe(datapipe=MapperIterDataPipe, drop_remaining=False, group_key_fn=<lambda>, group_size=2, guaranteed_group_size=2)'",
     "output_type": "error",
     "traceback": [
      "\u001b[0;31m---------------------------------------------------------------------------\u001b[0m",
      "\u001b[0;31mKeyError\u001b[0m                                  Traceback (most recent call last)",
      "Cell \u001b[0;32mIn[21], line 1\u001b[0m\n\u001b[0;32m----> 1\u001b[0m \u001b[38;5;28mprint\u001b[39m(\u001b[38;5;28;43mnext\u001b[39;49m\u001b[43m(\u001b[49m\u001b[38;5;28;43miter\u001b[39;49m\u001b[43m(\u001b[49m\u001b[43msamples\u001b[49m\u001b[43m)\u001b[49m\u001b[43m)\u001b[49m)\n",
      "File \u001b[0;32m/opt/conda/lib/python3.10/site-packages/torch/utils/data/datapipes/_hook_iterator.py:173\u001b[0m, in \u001b[0;36mhook_iterator.<locals>.wrap_generator\u001b[0;34m(*args, **kwargs)\u001b[0m\n\u001b[1;32m    171\u001b[0m         response \u001b[38;5;241m=\u001b[39m gen\u001b[38;5;241m.\u001b[39msend(\u001b[38;5;28;01mNone\u001b[39;00m)\n\u001b[1;32m    172\u001b[0m \u001b[38;5;28;01melse\u001b[39;00m:\n\u001b[0;32m--> 173\u001b[0m     response \u001b[38;5;241m=\u001b[39m \u001b[43mgen\u001b[49m\u001b[38;5;241;43m.\u001b[39;49m\u001b[43msend\u001b[49m\u001b[43m(\u001b[49m\u001b[38;5;28;43;01mNone\u001b[39;49;00m\u001b[43m)\u001b[49m\n\u001b[1;32m    175\u001b[0m \u001b[38;5;28;01mwhile\u001b[39;00m \u001b[38;5;28;01mTrue\u001b[39;00m:\n\u001b[1;32m    176\u001b[0m     datapipe\u001b[38;5;241m.\u001b[39m_number_of_samples_yielded \u001b[38;5;241m+\u001b[39m\u001b[38;5;241m=\u001b[39m \u001b[38;5;241m1\u001b[39m\n",
      "File \u001b[0;32m/opt/conda/lib/python3.10/site-packages/torch/utils/data/datapipes/iter/grouping.py:261\u001b[0m, in \u001b[0;36mGrouperIterDataPipe.__iter__\u001b[0;34m(self)\u001b[0m\n\u001b[1;32m    259\u001b[0m \u001b[38;5;28;01mdef\u001b[39;00m \u001b[38;5;21m__iter__\u001b[39m(\u001b[38;5;28mself\u001b[39m):\n\u001b[1;32m    260\u001b[0m     \u001b[38;5;28;01mfor\u001b[39;00m x \u001b[38;5;129;01min\u001b[39;00m \u001b[38;5;28mself\u001b[39m\u001b[38;5;241m.\u001b[39mdatapipe:\n\u001b[0;32m--> 261\u001b[0m         key \u001b[38;5;241m=\u001b[39m \u001b[38;5;28;43mself\u001b[39;49m\u001b[38;5;241;43m.\u001b[39;49m\u001b[43mgroup_key_fn\u001b[49m\u001b[43m(\u001b[49m\u001b[43mx\u001b[49m\u001b[43m)\u001b[49m\n\u001b[1;32m    263\u001b[0m         \u001b[38;5;28mself\u001b[39m\u001b[38;5;241m.\u001b[39mbuffer_elements[key]\u001b[38;5;241m.\u001b[39mappend(x)\n\u001b[1;32m    264\u001b[0m         \u001b[38;5;28mself\u001b[39m\u001b[38;5;241m.\u001b[39mcurr_buffer_size \u001b[38;5;241m+\u001b[39m\u001b[38;5;241m=\u001b[39m \u001b[38;5;241m1\u001b[39m\n",
      "Cell \u001b[0;32mIn[18], line 2\u001b[0m, in \u001b[0;36m<lambda>\u001b[0;34m(x)\u001b[0m\n\u001b[1;32m      1\u001b[0m \u001b[38;5;28;01mimport\u001b[39;00m \u001b[38;5;21;01mos\u001b[39;00m\n\u001b[0;32m----> 2\u001b[0m samples \u001b[38;5;241m=\u001b[39m dataset\u001b[38;5;241m.\u001b[39mgroupby(\u001b[38;5;28;01mlambda\u001b[39;00m x: os\u001b[38;5;241m.\u001b[39mpath\u001b[38;5;241m.\u001b[39mbasename(\u001b[43mx\u001b[49m\u001b[43m[\u001b[49m\u001b[38;5;241;43m0\u001b[39;49m\u001b[43m]\u001b[49m)\u001b[38;5;241m.\u001b[39msplit(\u001b[38;5;124m\"\u001b[39m\u001b[38;5;124m.\u001b[39m\u001b[38;5;124m\"\u001b[39m)[\u001b[38;5;241m0\u001b[39m],\n\u001b[1;32m      3\u001b[0m                        group_size\u001b[38;5;241m=\u001b[39m\u001b[38;5;241m2\u001b[39m, guaranteed_group_size\u001b[38;5;241m=\u001b[39m\u001b[38;5;241m2\u001b[39m)\n\u001b[1;32m      5\u001b[0m samples\n",
      "\u001b[0;31mKeyError\u001b[0m: '\\nThis exception is thrown by __iter__ of GrouperIterDataPipe(datapipe=MapperIterDataPipe, drop_remaining=False, group_key_fn=<lambda>, group_size=2, guaranteed_group_size=2)'"
     ]
    }
   ],
   "source": [
    "print(next(iter(samples)))"
   ]
  },
  {
   "cell_type": "code",
   "execution_count": 26,
   "id": "f185432e-52a9-4158-b35b-09144c2e77ad",
   "metadata": {
    "tags": []
   },
   "outputs": [
    {
     "ename": "AttributeError",
     "evalue": "module 'datasets' has no attribute 'parse_csv'",
     "output_type": "error",
     "traceback": [
      "\u001b[0;31m---------------------------------------------------------------------------\u001b[0m",
      "\u001b[0;31mAttributeError\u001b[0m                            Traceback (most recent call last)",
      "Cell \u001b[0;32mIn[26], line 3\u001b[0m\n\u001b[1;32m      1\u001b[0m \u001b[38;5;28;01mimport\u001b[39;00m \u001b[38;5;21;01mdatasets\u001b[39;00m\n\u001b[0;32m----> 3\u001b[0m dataset \u001b[38;5;241m=\u001b[39m samples\u001b[38;5;241m.\u001b[39mmap(\u001b[43mdatasets\u001b[49m\u001b[38;5;241;43m.\u001b[39;49m\u001b[43mparse_csv\u001b[49m(delimiter\u001b[38;5;241m=\u001b[39m\u001b[38;5;124m'\u001b[39m\u001b[38;5;130;01m\\t\u001b[39;00m\u001b[38;5;124m'\u001b[39m))\n\u001b[1;32m      5\u001b[0m \u001b[38;5;66;03m# .map(lambda x: \u001b[39;00m\n\u001b[1;32m      6\u001b[0m \u001b[38;5;66;03m#               {'customer_id': x[0][1].read(),\u001b[39;00m\n\u001b[1;32m      7\u001b[0m \u001b[38;5;66;03m#                'product_id': x[0][1].read()})\u001b[39;00m\n\u001b[1;32m      8\u001b[0m dataset \u001b[38;5;241m=\u001b[39m dataset\u001b[38;5;241m.\u001b[39mshuffle(buffer_size\u001b[38;5;241m=\u001b[39m\u001b[38;5;241m10\u001b[39m)\n",
      "\u001b[0;31mAttributeError\u001b[0m: module 'datasets' has no attribute 'parse_csv'"
     ]
    }
   ],
   "source": [
    "import datasets\n",
    "\n",
    "dataset = samples.map(datasets.parse_csv(delimiter='\\t'))\n",
    "\n",
    "# .map(lambda x: \n",
    "#               {'customer_id': x[0][1].read(),\n",
    "#                'product_id': x[0][1].read()})\n",
    "dataset = dataset.shuffle(buffer_size=10)\n",
    "dataset\n",
    "\n",
    "print(next(iter(dataset)))"
   ]
  },
  {
   "cell_type": "code",
   "execution_count": null,
   "id": "a5e8c3f2-8e67-4dce-a483-02eda94d125a",
   "metadata": {},
   "outputs": [],
   "source": [
    "# from torchdata.datapipes.iter import S3FileLoader, IterableWrapper\n",
    "# def get_dataset():\n",
    "#     urls = [f's3://<path in s3>/{i}.tar' for i in range(num_files)]\n",
    "#     urls = IterableWrapper(urls).shuffle().cycle()\n",
    "#     tars = S3FileLoader(urls).load_from_tar()\n",
    "#     samples = tars.groupby(lambda x:     \n",
    "#                                os.path.basename(x[0]).split(\".\")[0],\n",
    "#                            group_size=2, guaranteed_group_size=2)\n",
    "#     dataset = samples.map(lambda x: \n",
    "#                   {'image':dataset = samples.map(lambda x: \n",
    "#               {'customer_id': x[0][1].read(),\n",
    "#                'product_id': x[0][1].read()})\n",
    "# dataset = dataset.shuffle(buffer_size=10)\n",
    "# dataset x[0][1].read(),\n",
    "#                    'label': x[0][1].read()})\n",
    "#     dataset = dataset.shuffle(buffer_size=10)\n",
    "# return dataset"
   ]
  },
  {
   "cell_type": "code",
   "execution_count": null,
   "id": "2b683afb-0e06-4487-9708-e505664be0b8",
   "metadata": {},
   "outputs": [],
   "source": []
  },
  {
   "cell_type": "code",
   "execution_count": null,
   "id": "295c1f77-94e2-464e-952d-484c634e137e",
   "metadata": {},
   "outputs": [],
   "source": []
  },
  {
   "cell_type": "code",
   "execution_count": 23,
   "id": "7f0bf900-8a28-492f-bd0e-cdfc38a01c0f",
   "metadata": {
    "tags": []
   },
   "outputs": [
    {
     "ename": "NameError",
     "evalue": "name 'datapipe_s3' is not defined",
     "output_type": "error",
     "traceback": [
      "\u001b[0;31m---------------------------------------------------------------------------\u001b[0m",
      "\u001b[0;31mNameError\u001b[0m                                 Traceback (most recent call last)",
      "Cell \u001b[0;32mIn[23], line 1\u001b[0m\n\u001b[0;32m----> 1\u001b[0m datapipe_s3 \u001b[38;5;241m=\u001b[39m \u001b[43mdatapipe_s3\u001b[49m\u001b[38;5;241m.\u001b[39mparse_csv(delimiter\u001b[38;5;241m=\u001b[39m\u001b[38;5;124m'\u001b[39m\u001b[38;5;130;01m\\t\u001b[39;00m\u001b[38;5;124m'\u001b[39m)\n",
      "\u001b[0;31mNameError\u001b[0m: name 'datapipe_s3' is not defined"
     ]
    }
   ],
   "source": [
    "datapipe_s3 = datapipe_s3.parse_csv(delimiter='\\t')"
   ]
  },
  {
   "cell_type": "code",
   "execution_count": null,
   "id": "3725386a-4e38-4370-af1f-66ab412c9e76",
   "metadata": {
    "tags": []
   },
   "outputs": [],
   "source": [
    "N_ROWS = 100  # total number of rows of data\n",
    "train, validation = datapipe_s3.random_split(total_length=N_ROWS, weights={\"train\": 0.8, \"valid\": 0.2}, seed=42)\n",
    "\n",
    "# type(train)\n",
    "# type(validation)\n",
    "\n",
    "for x in train:  # Iterating through the training dataset\n",
    "    print(x)\n",
    "\n",
    "for y in validation:  # Iterating through the validation dataset\n",
    "    print(y)"
   ]
  },
  {
   "cell_type": "code",
   "execution_count": null,
   "id": "a5fed4fb-6ccb-456c-ad56-7816118cb5bf",
   "metadata": {},
   "outputs": [],
   "source": []
  }
 ],
 "metadata": {
  "instance_type": "ml.c5.4xlarge",
  "kernelspec": {
   "display_name": "Python 3 (Data Science 3.0)",
   "language": "python",
   "name": "python3__SAGEMAKER_INTERNAL__arn:aws:sagemaker:us-east-1:081325390199:image/sagemaker-data-science-310-v1"
  },
  "language_info": {
   "codemirror_mode": {
    "name": "ipython",
    "version": 3
   },
   "file_extension": ".py",
   "mimetype": "text/x-python",
   "name": "python",
   "nbconvert_exporter": "python",
   "pygments_lexer": "ipython3",
   "version": "3.10.6"
  }
 },
 "nbformat": 4,
 "nbformat_minor": 5
}
