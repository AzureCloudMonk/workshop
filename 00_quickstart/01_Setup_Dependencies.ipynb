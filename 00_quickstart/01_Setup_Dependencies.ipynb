{
 "cells": [
  {
   "cell_type": "markdown",
   "metadata": {},
   "source": [
    "# Setup All Workshop Dependencies\n",
    "\n",
    "## _Note:  This Notebook Will Take A Few Minutes To Complete._\n",
    "\n",
    "## _Please Be Patient._\n",
    "\n",
    "## _==> Please ignore all WARNINGs and ERRORs from the `pip install`'s below. <==_"
   ]
  },
  {
   "cell_type": "code",
   "execution_count": 2,
   "metadata": {},
   "outputs": [
    {
     "name": "stdout",
     "output_type": "stream",
     "text": [
      "Python 3.7.10\n"
     ]
    }
   ],
   "source": [
    "!python --version"
   ]
  },
  {
   "cell_type": "code",
   "execution_count": 3,
   "metadata": {
    "tags": []
   },
   "outputs": [
    {
     "name": "stdout",
     "output_type": "stream",
     "text": [
      "svmem(total=32890294272, available=10683518976, percent=67.5, used=21733883904, free=3155820544, active=26477953024, inactive=2659631104, buffers=0, cached=8000589824, shared=1970176, slab=352608256)\n"
     ]
    }
   ],
   "source": [
    "import psutil\n",
    "\n",
    "notebook_memory = psutil.virtual_memory()\n",
    "print(notebook_memory)\n",
    "\n",
    "if notebook_memory.total < 32 * 1000 * 1000 * 1000:\n",
    "    print('*******************************************')    \n",
    "    print('YOU ARE NOT USING THE CORRECT INSTANCE TYPE')\n",
    "    print('PLEASE CHANGE INSTANCE TYPE TO  m5.2xlarge ')\n",
    "    print('*******************************************')\n",
    "else:\n",
    "    correct_instance_type=True"
   ]
  },
  {
   "cell_type": "markdown",
   "metadata": {},
   "source": [
    "# SageMaker\n",
    "## _==> Please ignore all WARNINGs and ERRORs from the `pip install`'s below. <==_"
   ]
  },
  {
   "cell_type": "code",
   "execution_count": 4,
   "metadata": {},
   "outputs": [
    {
     "name": "stdout",
     "output_type": "stream",
     "text": [
      "\u001b[33mWARNING: Ignoring invalid distribution -yarrow (/opt/conda/lib/python3.7/site-packages)\u001b[0m\u001b[33m\n",
      "\u001b[0m\u001b[33mWARNING: Ignoring invalid distribution -yarrow (/opt/conda/lib/python3.7/site-packages)\u001b[0m\u001b[33m\n",
      "\u001b[0m\u001b[33mWARNING: Ignoring invalid distribution -yarrow (/opt/conda/lib/python3.7/site-packages)\u001b[0m\u001b[33m\n",
      "\u001b[0m\u001b[33m    WARNING: Ignoring invalid distribution -yarrow (/opt/conda/lib/python3.7/site-packages)\u001b[0m\u001b[33m\n",
      "\u001b[0m\u001b[33mWARNING: Ignoring invalid distribution -yarrow (/opt/conda/lib/python3.7/site-packages)\u001b[0m\u001b[33m\n",
      "\u001b[0m\u001b[33mWARNING: Running pip as the 'root' user can result in broken permissions and conflicting behaviour with the system package manager. It is recommended to use a virtual environment instead: https://pip.pypa.io/warnings/venv\u001b[0m\u001b[33m\n",
      "\u001b[0mNote: you may need to restart the kernel to use updated packages.\n"
     ]
    }
   ],
   "source": [
    "%pip install --disable-pip-version-check -q sagemaker==2.132.0"
   ]
  },
  {
   "cell_type": "code",
   "execution_count": 5,
   "metadata": {
    "tags": []
   },
   "outputs": [
    {
     "name": "stdout",
     "output_type": "stream",
     "text": [
      "\u001b[33mWARNING: Ignoring invalid distribution -yarrow (/opt/conda/lib/python3.7/site-packages)\u001b[0m\u001b[33m\n",
      "\u001b[0m\u001b[33mWARNING: Ignoring invalid distribution -yarrow (/opt/conda/lib/python3.7/site-packages)\u001b[0m\u001b[33m\n",
      "\u001b[0m\u001b[33mWARNING: Ignoring invalid distribution -yarrow (/opt/conda/lib/python3.7/site-packages)\u001b[0m\u001b[33m\n",
      "\u001b[0m\u001b[33mWARNING: Running pip as the 'root' user can result in broken permissions and conflicting behaviour with the system package manager. It is recommended to use a virtual environment instead: https://pip.pypa.io/warnings/venv\u001b[0m\u001b[33m\n",
      "\u001b[0mNote: you may need to restart the kernel to use updated packages.\n"
     ]
    }
   ],
   "source": [
    "%pip install --disable-pip-version-check -q sagemaker-experiments==0.1.28"
   ]
  },
  {
   "cell_type": "markdown",
   "metadata": {},
   "source": [
    "## _==> Please ignore all WARNINGs and ERRORs from the `pip install`'s above. <==_"
   ]
  },
  {
   "cell_type": "markdown",
   "metadata": {},
   "source": [
    "# PyTorch\n",
    "## _==> Please ignore all WARNINGs and ERRORs from the `pip install`'s below. <==_"
   ]
  },
  {
   "cell_type": "code",
   "execution_count": 6,
   "metadata": {},
   "outputs": [
    {
     "name": "stdout",
     "output_type": "stream",
     "text": [
      "\u001b[33mWARNING: Ignoring invalid distribution -yarrow (/opt/conda/lib/python3.7/site-packages)\u001b[0m\u001b[33m\n",
      "\u001b[0m\u001b[33mWARNING: Ignoring invalid distribution -yarrow (/opt/conda/lib/python3.7/site-packages)\u001b[0m\u001b[33m\n",
      "\u001b[0mRequirement already satisfied: torch==1.13.1 in /opt/conda/lib/python3.7/site-packages (1.13.1)\n",
      "Requirement already satisfied: torchdata==0.5.1 in /opt/conda/lib/python3.7/site-packages (0.5.1)\n",
      "Requirement already satisfied: nvidia-cublas-cu11==11.10.3.66 in /opt/conda/lib/python3.7/site-packages (from torch==1.13.1) (11.10.3.66)\n",
      "Requirement already satisfied: typing-extensions in /opt/conda/lib/python3.7/site-packages (from torch==1.13.1) (4.4.0)\n",
      "Requirement already satisfied: nvidia-cudnn-cu11==8.5.0.96 in /opt/conda/lib/python3.7/site-packages (from torch==1.13.1) (8.5.0.96)\n",
      "Requirement already satisfied: nvidia-cuda-nvrtc-cu11==11.7.99 in /opt/conda/lib/python3.7/site-packages (from torch==1.13.1) (11.7.99)\n",
      "Requirement already satisfied: nvidia-cuda-runtime-cu11==11.7.99 in /opt/conda/lib/python3.7/site-packages (from torch==1.13.1) (11.7.99)\n",
      "Requirement already satisfied: requests in /opt/conda/lib/python3.7/site-packages (from torchdata==0.5.1) (2.28.2)\n",
      "Requirement already satisfied: portalocker>=2.0.0 in /opt/conda/lib/python3.7/site-packages (from torchdata==0.5.1) (2.7.0)\n",
      "Requirement already satisfied: urllib3>=1.25 in /opt/conda/lib/python3.7/site-packages (from torchdata==0.5.1) (1.26.14)\n",
      "Requirement already satisfied: wheel in /opt/conda/lib/python3.7/site-packages (from nvidia-cublas-cu11==11.10.3.66->torch==1.13.1) (0.38.4)\n",
      "Requirement already satisfied: setuptools in /opt/conda/lib/python3.7/site-packages (from nvidia-cublas-cu11==11.10.3.66->torch==1.13.1) (59.3.0)\n",
      "Requirement already satisfied: certifi>=2017.4.17 in /opt/conda/lib/python3.7/site-packages (from requests->torchdata==0.5.1) (2022.12.7)\n",
      "Requirement already satisfied: charset-normalizer<4,>=2 in /opt/conda/lib/python3.7/site-packages (from requests->torchdata==0.5.1) (2.0.4)\n",
      "Requirement already satisfied: idna<4,>=2.5 in /opt/conda/lib/python3.7/site-packages (from requests->torchdata==0.5.1) (2.8)\n",
      "\u001b[33mWARNING: Ignoring invalid distribution -yarrow (/opt/conda/lib/python3.7/site-packages)\u001b[0m\u001b[33m\n",
      "\u001b[0m\u001b[33mWARNING: Running pip as the 'root' user can result in broken permissions and conflicting behaviour with the system package manager. It is recommended to use a virtual environment instead: https://pip.pypa.io/warnings/venv\u001b[0m\u001b[33m\n",
      "\u001b[0mNote: you may need to restart the kernel to use updated packages.\n"
     ]
    }
   ],
   "source": [
    "%pip install --disable-pip-version-check torch==1.13.1 torchdata==0.5.1"
   ]
  },
  {
   "cell_type": "markdown",
   "metadata": {
    "jp-MarkdownHeadingCollapsed": true,
    "tags": []
   },
   "source": [
    "## _==> Please ignore all WARNINGs and ERRORs from the `pip install`'s above. <==_"
   ]
  },
  {
   "cell_type": "markdown",
   "metadata": {
    "tags": []
   },
   "source": [
    "# Hugging Face Transformers (BLOOM/GPT3)\n",
    "## _==> Please ignore all WARNINGs and ERRORs from the `pip install`'s below. <==_"
   ]
  },
  {
   "cell_type": "code",
   "execution_count": 7,
   "metadata": {},
   "outputs": [
    {
     "name": "stdout",
     "output_type": "stream",
     "text": [
      "\u001b[33mWARNING: Ignoring invalid distribution -yarrow (/opt/conda/lib/python3.7/site-packages)\u001b[0m\u001b[33m\n",
      "\u001b[0m\u001b[33mWARNING: Ignoring invalid distribution -yarrow (/opt/conda/lib/python3.7/site-packages)\u001b[0m\u001b[33m\n",
      "\u001b[0m\u001b[33mWARNING: Ignoring invalid distribution -yarrow (/opt/conda/lib/python3.7/site-packages)\u001b[0m\u001b[33m\n",
      "\u001b[0m\u001b[33mWARNING: Running pip as the 'root' user can result in broken permissions and conflicting behaviour with the system package manager. It is recommended to use a virtual environment instead: https://pip.pypa.io/warnings/venv\u001b[0m\u001b[33m\n",
      "\u001b[0mNote: you may need to restart the kernel to use updated packages.\n"
     ]
    }
   ],
   "source": [
    "%pip install --disable-pip-version-check -q transformers==4.26.1 datasets==2.9.0 promptsource==0.2.3"
   ]
  },
  {
   "cell_type": "markdown",
   "metadata": {},
   "source": [
    "## _==> Please ignore all WARNINGs and ERRORs from the `pip install`'s above. <==_"
   ]
  },
  {
   "cell_type": "markdown",
   "metadata": {
    "tags": []
   },
   "source": [
    "# Ray\n",
    "## _==> Please ignore all WARNINGs and ERRORs from the `pip install`'s below. <==_"
   ]
  },
  {
   "cell_type": "code",
   "execution_count": 8,
   "metadata": {},
   "outputs": [
    {
     "name": "stdout",
     "output_type": "stream",
     "text": [
      "\u001b[33mWARNING: Ignoring invalid distribution -yarrow (/opt/conda/lib/python3.7/site-packages)\u001b[0m\u001b[33m\n",
      "\u001b[0m\u001b[33mWARNING: Ignoring invalid distribution -yarrow (/opt/conda/lib/python3.7/site-packages)\u001b[0m\u001b[33m\n",
      "\u001b[0m\u001b[33mWARNING: Ignoring invalid distribution -yarrow (/opt/conda/lib/python3.7/site-packages)\u001b[0m\u001b[33m\n",
      "\u001b[0m\u001b[33mWARNING: Running pip as the 'root' user can result in broken permissions and conflicting behaviour with the system package manager. It is recommended to use a virtual environment instead: https://pip.pypa.io/warnings/venv\u001b[0m\u001b[33m\n",
      "\u001b[0mNote: you may need to restart the kernel to use updated packages.\n"
     ]
    }
   ],
   "source": [
    "%pip install --disable-pip-version-check -q ray==2.3.0"
   ]
  },
  {
   "cell_type": "markdown",
   "metadata": {},
   "source": [
    "## _==> Please ignore all WARNINGs and ERRORs from the `pip install`'s above. <==_"
   ]
  },
  {
   "cell_type": "markdown",
   "metadata": {},
   "source": [
    "# PyAthena\n",
    "## _==> Please ignore all WARNINGs and ERRORs from the `pip install`'s below. <==_"
   ]
  },
  {
   "cell_type": "code",
   "execution_count": 9,
   "metadata": {},
   "outputs": [
    {
     "name": "stdout",
     "output_type": "stream",
     "text": [
      "\u001b[33mWARNING: Ignoring invalid distribution -yarrow (/opt/conda/lib/python3.7/site-packages)\u001b[0m\u001b[33m\n",
      "\u001b[0m\u001b[33mWARNING: Ignoring invalid distribution -yarrow (/opt/conda/lib/python3.7/site-packages)\u001b[0m\u001b[33m\n",
      "\u001b[0m\u001b[33mWARNING: Ignoring invalid distribution -yarrow (/opt/conda/lib/python3.7/site-packages)\u001b[0m\u001b[33m\n",
      "\u001b[0m\u001b[33mWARNING: Running pip as the 'root' user can result in broken permissions and conflicting behaviour with the system package manager. It is recommended to use a virtual environment instead: https://pip.pypa.io/warnings/venv\u001b[0m\u001b[33m\n",
      "\u001b[0mNote: you may need to restart the kernel to use updated packages.\n"
     ]
    }
   ],
   "source": [
    "%pip install --disable-pip-version-check -q PyAthena==2.1.1"
   ]
  },
  {
   "cell_type": "markdown",
   "metadata": {},
   "source": [
    "## _==> Please ignore all WARNINGs and ERRORs from the `pip install`'s above. <==_"
   ]
  },
  {
   "cell_type": "markdown",
   "metadata": {},
   "source": [
    "# Redshift\n",
    "## _==> Please ignore all WARNINGs and ERRORs from the `pip install`'s below. <==_"
   ]
  },
  {
   "cell_type": "code",
   "execution_count": 10,
   "metadata": {},
   "outputs": [
    {
     "name": "stdout",
     "output_type": "stream",
     "text": [
      "\u001b[33mWARNING: Ignoring invalid distribution -yarrow (/opt/conda/lib/python3.7/site-packages)\u001b[0m\u001b[33m\n",
      "\u001b[0m\u001b[33mWARNING: Ignoring invalid distribution -yarrow (/opt/conda/lib/python3.7/site-packages)\u001b[0m\u001b[33m\n",
      "\u001b[0m\u001b[33mWARNING: Ignoring invalid distribution -yarrow (/opt/conda/lib/python3.7/site-packages)\u001b[0m\u001b[33m\n",
      "\u001b[0m\u001b[33mWARNING: Running pip as the 'root' user can result in broken permissions and conflicting behaviour with the system package manager. It is recommended to use a virtual environment instead: https://pip.pypa.io/warnings/venv\u001b[0m\u001b[33m\n",
      "\u001b[0m\u001b[33mWARNING: Ignoring invalid distribution -yarrow (/opt/conda/lib/python3.7/site-packages)\u001b[0m\u001b[33m\n",
      "\u001b[0m\u001b[33mWARNING: Ignoring invalid distribution -yarrow (/opt/conda/lib/python3.7/site-packages)\u001b[0m\u001b[33m\n",
      "\u001b[0m\u001b[33mWARNING: Ignoring invalid distribution -yarrow (/opt/conda/lib/python3.7/site-packages)\u001b[0m\u001b[33m\n",
      "\u001b[0m\u001b[33mWARNING: Running pip as the 'root' user can result in broken permissions and conflicting behaviour with the system package manager. It is recommended to use a virtual environment instead: https://pip.pypa.io/warnings/venv\u001b[0m\u001b[33m\n",
      "\u001b[0m"
     ]
    }
   ],
   "source": [
    "!pip install --disable-pip-version-check -q SQLAlchemy==1.3.23\n",
    "!pip install --disable-pip-version-check -q psycopg2-binary==2.9.1"
   ]
  },
  {
   "cell_type": "markdown",
   "metadata": {},
   "source": [
    "## _==> Please ignore all WARNINGs and ERRORs from the `pip install`'s above. <==_"
   ]
  },
  {
   "cell_type": "markdown",
   "metadata": {},
   "source": [
    "# Zip\n",
    "## _==> Please ignore all WARNINGs and ERRORs from the `conda install`'s below. <==_"
   ]
  },
  {
   "cell_type": "code",
   "execution_count": 11,
   "metadata": {},
   "outputs": [
    {
     "name": "stdout",
     "output_type": "stream",
     "text": [
      "Collecting package metadata (current_repodata.json): ...working... done\n",
      "Solving environment: ...working... done\n",
      "\n",
      "# All requested packages already installed.\n",
      "\n",
      "Retrieving notices: ...working... done\n",
      "\n",
      "Note: you may need to restart the kernel to use updated packages.\n"
     ]
    }
   ],
   "source": [
    "%conda install -q -y zip"
   ]
  },
  {
   "cell_type": "markdown",
   "metadata": {},
   "source": [
    "# Matplotlib\n",
    "## _==> Please ignore all WARNINGs and ERRORs from the `pip install`'s below. <==_"
   ]
  },
  {
   "cell_type": "code",
   "execution_count": 12,
   "metadata": {},
   "outputs": [
    {
     "name": "stdout",
     "output_type": "stream",
     "text": [
      "\u001b[33mWARNING: Ignoring invalid distribution -yarrow (/opt/conda/lib/python3.7/site-packages)\u001b[0m\u001b[33m\n",
      "\u001b[0m\u001b[33mWARNING: Ignoring invalid distribution -yarrow (/opt/conda/lib/python3.7/site-packages)\u001b[0m\u001b[33m\n",
      "\u001b[0m\u001b[33mWARNING: Ignoring invalid distribution -yarrow (/opt/conda/lib/python3.7/site-packages)\u001b[0m\u001b[33m\n",
      "\u001b[0m\u001b[33mWARNING: Running pip as the 'root' user can result in broken permissions and conflicting behaviour with the system package manager. It is recommended to use a virtual environment instead: https://pip.pypa.io/warnings/venv\u001b[0m\u001b[33m\n",
      "\u001b[0mNote: you may need to restart the kernel to use updated packages.\n"
     ]
    }
   ],
   "source": [
    "%pip install --disable-pip-version-check -q matplotlib==3.1.3"
   ]
  },
  {
   "cell_type": "markdown",
   "metadata": {},
   "source": [
    "## _==> Please ignore all WARNINGs and ERRORs from the `pip install`'s above. <==_"
   ]
  },
  {
   "cell_type": "markdown",
   "metadata": {},
   "source": [
    "# Seaborn\n",
    "## _==> Please ignore all WARNINGs and ERRORs from the `pip install`'s below. <==_"
   ]
  },
  {
   "cell_type": "code",
   "execution_count": 13,
   "metadata": {},
   "outputs": [
    {
     "name": "stdout",
     "output_type": "stream",
     "text": [
      "\u001b[33mWARNING: Ignoring invalid distribution -yarrow (/opt/conda/lib/python3.7/site-packages)\u001b[0m\u001b[33m\n",
      "\u001b[0m\u001b[33mWARNING: Ignoring invalid distribution -yarrow (/opt/conda/lib/python3.7/site-packages)\u001b[0m\u001b[33m\n",
      "\u001b[0m\u001b[33mWARNING: Ignoring invalid distribution -yarrow (/opt/conda/lib/python3.7/site-packages)\u001b[0m\u001b[33m\n",
      "\u001b[0m\u001b[33mWARNING: Running pip as the 'root' user can result in broken permissions and conflicting behaviour with the system package manager. It is recommended to use a virtual environment instead: https://pip.pypa.io/warnings/venv\u001b[0m\u001b[33m\n",
      "\u001b[0mNote: you may need to restart the kernel to use updated packages.\n"
     ]
    }
   ],
   "source": [
    "%pip install --disable-pip-version-check -q seaborn==0.10.0"
   ]
  },
  {
   "cell_type": "markdown",
   "metadata": {},
   "source": [
    "## _==> Please ignore all WARNINGs and ERRORs from the `pip install`'s above. <==_"
   ]
  },
  {
   "cell_type": "markdown",
   "metadata": {},
   "source": [
    "# Scikit-Learn\n",
    "## _==> Please ignore all WARNINGs and ERRORs from the `pip install`'s below. <==_"
   ]
  },
  {
   "cell_type": "code",
   "execution_count": 14,
   "metadata": {},
   "outputs": [
    {
     "name": "stdout",
     "output_type": "stream",
     "text": [
      "\u001b[33mWARNING: Ignoring invalid distribution -yarrow (/opt/conda/lib/python3.7/site-packages)\u001b[0m\u001b[33m\n",
      "\u001b[0m\u001b[33mWARNING: Ignoring invalid distribution -yarrow (/opt/conda/lib/python3.7/site-packages)\u001b[0m\u001b[33m\n",
      "\u001b[0m\u001b[33mWARNING: Ignoring invalid distribution -yarrow (/opt/conda/lib/python3.7/site-packages)\u001b[0m\u001b[33m\n",
      "\u001b[0m\u001b[33mWARNING: Running pip as the 'root' user can result in broken permissions and conflicting behaviour with the system package manager. It is recommended to use a virtual environment instead: https://pip.pypa.io/warnings/venv\u001b[0m\u001b[33m\n",
      "\u001b[0mNote: you may need to restart the kernel to use updated packages.\n"
     ]
    }
   ],
   "source": [
    "%pip install --disable-pip-version-check -q scikit-learn==0.23.1"
   ]
  },
  {
   "cell_type": "markdown",
   "metadata": {},
   "source": [
    "## _==> Please ignore all WARNINGs and ERRORs from the `pip install`'s above. <==_"
   ]
  },
  {
   "cell_type": "code",
   "execution_count": 15,
   "metadata": {},
   "outputs": [
    {
     "name": "stdout",
     "output_type": "stream",
     "text": [
      "arn:aws:iam::079002598131:role/service-role/AmazonSageMaker-ExecutionRole-20220804T150518\n",
      "Stored 'role' (str)\n"
     ]
    }
   ],
   "source": [
    "import sagemaker\n",
    "\n",
    "try:\n",
    "    role = sagemaker.get_execution_role()\n",
    "    print(role)\n",
    "except:\n",
    "    #role='<SAGEMAKER_EXECUTION_ROLE_NAME>' # ie. arn:aws:iam::<ACCOUNT_ID>:role/service-role/AmazonSageMaker-ExecutionRole-XXXXXXXXXXXX\n",
    "    print('If there is an exception, please set the role directly by uncommenting the \"role=...\" line above.')\n",
    "    pass\n",
    "\n",
    "%store role"
   ]
  },
  {
   "cell_type": "markdown",
   "metadata": {},
   "source": [
    "# Summarize\n",
    "## _==> Please ignore all WARNINGs and ERRORs from the `pip install`'s below. <==_"
   ]
  },
  {
   "cell_type": "code",
   "execution_count": 16,
   "metadata": {},
   "outputs": [
    {
     "name": "stdout",
     "output_type": "stream",
     "text": [
      "Python 3.7.10\n"
     ]
    }
   ],
   "source": [
    "!python --version"
   ]
  },
  {
   "cell_type": "code",
   "execution_count": 17,
   "metadata": {
    "scrolled": true
   },
   "outputs": [
    {
     "name": "stdout",
     "output_type": "stream",
     "text": [
      "\u001b[33mWARNING: Ignoring invalid distribution -yarrow (/opt/conda/lib/python3.7/site-packages)\u001b[0m\u001b[33m\n",
      "\u001b[0mPackage                                Version\n",
      "-------------------------------------- -----------------\n",
      "aenum                                  3.1.11\n",
      "aiobotocore                            2.4.2\n",
      "aiohttp                                3.8.4\n",
      "aiohttp-cors                           0.7.0\n",
      "aioitertools                           0.11.0\n",
      "aiorwlock                              1.3.0\n",
      "aiosignal                              1.3.1\n",
      "alabaster                              0.7.12\n",
      "altair                                 4.2.2\n",
      "anaconda-client                        1.7.2\n",
      "anaconda-project                       0.8.3\n",
      "ansi2html                              1.8.0\n",
      "anyio                                  3.6.2\n",
      "argh                                   0.26.2\n",
      "argon2-cffi                            21.3.0\n",
      "argon2-cffi-bindings                   21.2.0\n",
      "asn1crypto                             1.5.1\n",
      "astor                                  0.8.1\n",
      "astroid                                2.14.2\n",
      "astropy                                4.3.1\n",
      "async-timeout                          4.0.2\n",
      "asynctest                              0.13.0\n",
      "atomicwrites                           1.3.0\n",
      "attrs                                  22.2.0\n",
      "autopep8                               1.4.4\n",
      "autovizwidget                          0.20.4\n",
      "awscli                                 1.27.69\n",
      "Babel                                  2.11.0\n",
      "backcall                               0.1.0\n",
      "backoff                                2.2.1\n",
      "backports.shutil-get-terminal-size     1.0.0\n",
      "backports.zoneinfo                     0.2.1\n",
      "base58                                 2.1.1\n",
      "beautifulsoup4                         4.8.2\n",
      "bitarray                               1.2.1\n",
      "bkcharts                               0.2\n",
      "black                                  21.12b0\n",
      "bleach                                 6.0.0\n",
      "blessed                                1.20.0\n",
      "blinker                                1.5\n",
      "bokeh                                  1.4.0\n",
      "boto                                   2.49.0\n",
      "boto3                                  1.26.69\n",
      "botocore                               1.29.69\n",
      "Bottleneck                             1.3.2\n",
      "Brotli                                 1.0.9\n",
      "brotlipy                               0.7.0\n",
      "cached-property                        1.5.2\n",
      "cachetools                             5.3.0\n",
      "certifi                                2022.12.7\n",
      "cffi                                   1.15.0\n",
      "chardet                                3.0.4\n",
      "charset-normalizer                     2.0.4\n",
      "click                                  7.1.2\n",
      "cloudpickle                            2.2.1\n",
      "clyent                                 1.2.2\n",
      "colorama                               0.4.3\n",
      "colorful                               0.5.5\n",
      "conda                                  22.9.0\n",
      "conda-package-handling                 1.8.1\n",
      "contextlib2                            0.6.0.post1\n",
      "cryptography                           39.0.1\n",
      "cycler                                 0.10.0\n",
      "Cython                                 0.29.15\n",
      "cytoolz                                0.10.1\n",
      "dash                                   2.8.1\n",
      "dash-core-components                   2.0.0\n",
      "dash-html-components                   2.0.0\n",
      "dash-table                             5.0.0\n",
      "dask                                   2022.2.0\n",
      "datasets                               2.9.0\n",
      "decorator                              4.4.1\n",
      "defusedxml                             0.6.0\n",
      "Deprecated                             1.2.13\n",
      "diff-match-patch                       20181111\n",
      "dill                                   0.3.6\n",
      "distlib                                0.3.6\n",
      "distributed                            2022.2.0\n",
      "distro                                 1.8.0\n",
      "dm-tree                                0.1.8\n",
      "docker                                 6.0.1\n",
      "docker-compose                         1.29.2\n",
      "dockerpty                              0.4.1\n",
      "docopt                                 0.6.2\n",
      "docutils                               0.16\n",
      "dparse                                 0.6.2\n",
      "entrypoints                            0.3\n",
      "et-xmlfile                             1.0.1\n",
      "fastapi                                0.92.0\n",
      "fastcache                              1.1.0\n",
      "fastjsonschema                         2.16.2\n",
      "filelock                               3.9.0\n",
      "flake8                                 3.7.9\n",
      "Flask                                  1.1.1\n",
      "frozenlist                             1.3.3\n",
      "fsspec                                 2023.1.0\n",
      "future                                 0.18.2\n",
      "gevent                                 1.4.0\n",
      "gitdb                                  4.0.10\n",
      "GitPython                              3.1.31\n",
      "glob2                                  0.7\n",
      "gmpy2                                  2.0.8\n",
      "google-api-core                        2.11.0\n",
      "google-auth                            2.16.1\n",
      "google-pasta                           0.2.0\n",
      "googleapis-common-protos               1.58.0\n",
      "gpustat                                1.0.0\n",
      "greenlet                               0.4.15\n",
      "grpcio                                 1.51.3\n",
      "Gymnasium                              0.26.3\n",
      "gymnasium-notices                      0.0.1\n",
      "h11                                    0.14.0\n",
      "h5py                                   2.10.0\n",
      "hdijupyterutils                        0.20.4\n",
      "HeapDict                               1.0.1\n",
      "html5lib                               1.0.1\n",
      "huggingface-hub                        0.12.1\n",
      "hypothesis                             5.5.4\n",
      "idna                                   2.8\n",
      "imageio                                2.6.1\n",
      "imagesize                              1.2.0\n",
      "importlib-metadata                     4.13.0\n",
      "inflate64                              0.3.1\n",
      "intervaltree                           3.0.2\n",
      "ipykernel                              5.1.4\n",
      "ipython                                7.34.0\n",
      "ipython_genutils                       0.2.0\n",
      "ipywidgets                             7.5.1\n",
      "isort                                  5.8.0\n",
      "itsdangerous                           1.1.0\n",
      "jdcal                                  1.4.1\n",
      "jedi                                   0.18.2\n",
      "jeepney                                0.4.2\n",
      "Jinja2                                 3.1.2\n",
      "jmespath                               1.0.1\n",
      "joblib                                 1.2.0\n",
      "json5                                  0.9.1\n",
      "jsonschema                             3.2.0\n",
      "jupyter                                1.0.0\n",
      "jupyter_client                         7.4.9\n",
      "jupyter-console                        6.1.0\n",
      "jupyter_core                           4.12.0\n",
      "jupyter-dash                           0.4.2\n",
      "jupyter-server                         1.23.5\n",
      "jupyterlab                             1.2.21\n",
      "jupyterlab-pygments                    0.2.2\n",
      "jupyterlab-server                      1.0.6\n",
      "keyring                                21.1.0\n",
      "kiwisolver                             1.1.0\n",
      "kubernetes                             26.1.0\n",
      "lazy-object-proxy                      1.4.3\n",
      "libarchive-c                           2.8\n",
      "lief                                   0.9.0\n",
      "llvmlite                               0.39.1\n",
      "locket                                 0.2.0\n",
      "lxml                                   4.9.2\n",
      "lz4                                    4.3.2\n",
      "markdown-it-py                         2.2.0\n",
      "MarkupSafe                             2.1.2\n",
      "matplotlib                             3.1.3\n",
      "matplotlib-inline                      0.1.6\n",
      "mccabe                                 0.6.1\n",
      "mdurl                                  0.1.2\n",
      "mistune                                0.8.4\n",
      "mkl-fft                                1.0.15\n",
      "mkl-random                             1.1.0\n",
      "mkl-service                            2.3.0\n",
      "mock                                   4.0.1\n",
      "more-itertools                         8.2.0\n",
      "mpmath                                 1.1.0\n",
      "msgpack                                1.0.4\n",
      "multidict                              6.0.4\n",
      "multipledispatch                       0.6.0\n",
      "multiprocess                           0.70.14\n",
      "multivolumefile                        0.2.3\n",
      "mypy-extensions                        1.0.0\n",
      "nbclassic                              0.5.1\n",
      "nbclient                               0.7.2\n",
      "nbconvert                              6.5.4\n",
      "nbformat                               5.7.3\n",
      "nest-asyncio                           1.5.6\n",
      "networkx                               2.4\n",
      "nltk                                   3.8.1\n",
      "nose                                   1.3.7\n",
      "notebook                               6.5.2\n",
      "notebook_shim                          0.2.2\n",
      "numba                                  0.56.4\n",
      "numexpr                                2.7.1\n",
      "numpy                                  1.21.6\n",
      "numpydoc                               0.9.2\n",
      "nvidia-cublas-cu11                     11.10.3.66\n",
      "nvidia-cuda-nvrtc-cu11                 11.7.99\n",
      "nvidia-cuda-runtime-cu11               11.7.99\n",
      "nvidia-cudnn-cu11                      8.5.0.96\n",
      "nvidia-ml-py                           11.495.46\n",
      "oauthlib                               3.2.2\n",
      "olefile                                0.46\n",
      "opencensus                             0.11.1\n",
      "opencensus-context                     0.1.3\n",
      "openpyxl                               3.0.3\n",
      "opentelemetry-api                      1.16.0\n",
      "opentelemetry-exporter-otlp            1.16.0\n",
      "opentelemetry-exporter-otlp-proto-grpc 1.16.0\n",
      "opentelemetry-exporter-otlp-proto-http 1.16.0\n",
      "opentelemetry-proto                    1.16.0\n",
      "opentelemetry-sdk                      1.16.0\n",
      "opentelemetry-semantic-conventions     0.37b0\n",
      "packaging                              23.0\n",
      "pandas                                 1.3.5\n",
      "pandocfilters                          1.4.2\n",
      "parso                                  0.8.3\n",
      "partd                                  1.1.0\n",
      "path                                   13.1.0\n",
      "pathlib2                               2.3.5\n",
      "pathos                                 0.3.0\n",
      "pathspec                               0.11.0\n",
      "pathtools                              0.1.2\n",
      "patsy                                  0.5.1\n",
      "pep8                                   1.7.1\n",
      "pexpect                                4.8.0\n",
      "pickleshare                            0.7.5\n",
      "Pillow                                 9.4.0\n",
      "pip                                    23.0\n",
      "pkginfo                                1.5.0.1\n",
      "platformdirs                           3.0.0\n",
      "plotly                                 5.8.2\n",
      "pluggy                                 0.13.1\n",
      "ply                                    3.11\n",
      "portalocker                            2.7.0\n",
      "pox                                    0.3.2\n",
      "ppft                                   1.7.6.6\n",
      "prometheus-client                      0.7.1\n",
      "prompt-toolkit                         3.0.3\n",
      "promptsource                           0.2.3\n",
      "protobuf                               3.20.3\n",
      "protobuf3-to-dict                      0.1.5\n",
      "psutil                                 5.6.7\n",
      "psycopg2-binary                        2.9.1\n",
      "ptyprocess                             0.6.0\n",
      "pure-sasl                              0.6.2\n",
      "py                                     1.11.0\n",
      "py-spy                                 0.3.14\n",
      "py7zr                                  0.20.4\n",
      "pyarrow                                11.0.0\n",
      "pyasn1                                 0.4.8\n",
      "pyasn1-modules                         0.2.8\n",
      "pyathena                               2.1.1\n",
      "pybcj                                  1.0.1\n",
      "pycodestyle                            2.5.0\n",
      "pycosat                                0.6.3\n",
      "pycparser                              2.19\n",
      "pycrypto                               2.6.1\n",
      "pycryptodomex                          3.17\n",
      "pycurl                                 7.43.0.5\n",
      "pydantic                               1.10.5\n",
      "pydeck                                 0.8.0\n",
      "pydocstyle                             4.0.1\n",
      "pyerfa                                 2.0.0.1\n",
      "pyflakes                               2.1.1\n",
      "pyfunctional                           1.4.3\n",
      "Pygments                               2.14.0\n",
      "PyHive                                 0.6.5\n",
      "pykerberos                             1.2.1\n",
      "pylint                                 2.16.1\n",
      "PyMySQL                                1.0.2\n",
      "pyodbc                                 4.0.0-unsupported\n",
      "pyOpenSSL                              23.0.0\n",
      "pyparsing                              2.4.6\n",
      "pyppmd                                 1.0.0\n",
      "pyrsistent                             0.15.7\n",
      "PySocks                                1.7.1\n",
      "pytest                                 5.3.5\n",
      "pytest-arraydiff                       0.3\n",
      "pytest-astropy                         0.8.0\n",
      "pytest-astropy-header                  0.1.2\n",
      "pytest-doctestplus                     0.5.0\n",
      "pytest-openfiles                       0.4.0\n",
      "pytest-remotedata                      0.3.2\n",
      "python-dateutil                        2.8.2\n",
      "python-dotenv                          0.21.1\n",
      "python-jsonrpc-server                  0.3.4\n",
      "python-language-server                 0.31.7\n",
      "python-utils                           3.5.2\n",
      "pytz                                   2022.7.1\n",
      "pytz-deprecation-shim                  0.1.0.post0\n",
      "PyWavelets                             1.1.1\n",
      "pyxdg                                  0.26\n",
      "PyYAML                                 6.0\n",
      "pyzmq                                  25.0.0\n",
      "pyzstd                                 0.15.4\n",
      "QDarkStyle                             2.8\n",
      "QtAwesome                              0.6.1\n",
      "qtconsole                              4.6.0\n",
      "QtPy                                   1.9.0\n",
      "ray                                    2.3.0\n",
      "ray-cpp                                2.3.0\n",
      "regex                                  2022.10.31\n",
      "requests                               2.28.2\n",
      "requests-kerberos                      0.12.0\n",
      "requests-oauthlib                      1.3.1\n",
      "responses                              0.18.0\n",
      "retrying                               1.3.4\n",
      "rich                                   13.3.1\n",
      "rope                                   0.16.0\n",
      "rsa                                    4.9\n",
      "Rtree                                  0.9.3\n",
      "ruamel_yaml                            0.15.87\n",
      "s3fs                                   0.4.2\n",
      "s3transfer                             0.6.0\n",
      "sagemaker                              2.132.0\n",
      "sagemaker-data-insights                0.3.3\n",
      "sagemaker-datawrangler                 0.3.8\n",
      "sagemaker-experiments                  0.1.28\n",
      "sagemaker-scikit-learn-extension       2.5.0\n",
      "sagemaker-studio-analytics-extension   0.0.15\n",
      "sagemaker-studio-sparkmagic-lib        0.1.4\n",
      "sasl                                   0.3.1\n",
      "schema                                 0.7.5\n",
      "scikit-image                           0.16.2\n",
      "scikit-learn                           0.23.1\n",
      "scipy                                  1.4.1\n",
      "seaborn                                0.10.0\n",
      "SecretStorage                          3.1.2\n",
      "Send2Trash                             1.8.0\n",
      "setuptools                             59.3.0\n",
      "simplegeneric                          0.8.1\n",
      "singledispatch                         3.4.0.3\n",
      "six                                    1.14.0\n",
      "smart-open                             6.3.0\n",
      "smclarify                              0.3\n",
      "smdebug-rulesconfig                    1.0.1\n",
      "smmap                                  5.0.0\n",
      "sniffio                                1.3.0\n",
      "snowballstemmer                        2.0.0\n",
      "sortedcollections                      1.1.2\n",
      "sortedcontainers                       2.1.0\n",
      "soupsieve                              1.9.5\n",
      "sparkmagic                             0.20.4\n",
      "Sphinx                                 2.4.0\n",
      "sphinxcontrib-applehelp                1.0.1\n",
      "sphinxcontrib-devhelp                  1.0.1\n",
      "sphinxcontrib-htmlhelp                 1.0.2\n",
      "sphinxcontrib-jsmath                   1.0.1\n",
      "sphinxcontrib-qthelp                   1.0.2\n",
      "sphinxcontrib-serializinghtml          1.1.3\n",
      "sphinxcontrib-websupport               1.2.0\n",
      "spyder                                 4.0.1\n",
      "spyder-kernels                         1.8.1\n",
      "SQLAlchemy                             1.3.23\n",
      "starlette                              0.25.0\n",
      "statsmodels                            0.11.0\n",
      "streamlit                              0.82.0\n",
      "sympy                                  1.5.1\n",
      "tables                                 3.6.1\n",
      "tabulate                               0.9.0\n",
      "tblib                                  1.6.0\n",
      "tenacity                               8.2.1\n",
      "tensorboardX                           2.6\n",
      "terminado                              0.8.3\n",
      "testpath                               0.4.4\n",
      "texttable                              1.6.7\n",
      "threadpoolctl                          3.1.0\n",
      "thrift                                 0.13.0\n",
      "thrift-sasl                            0.4.3\n",
      "tinycss2                               1.2.1\n",
      "tokenizers                             0.13.2\n",
      "toml                                   0.10.2\n",
      "tomli                                  1.2.3\n",
      "tomlkit                                0.11.6\n",
      "toolz                                  0.10.0\n",
      "torch                                  1.13.1\n",
      "torchdata                              0.5.1\n",
      "tornado                                6.2\n",
      "tqdm                                   4.64.1\n",
      "traitlets                              5.9.0\n",
      "transformers                           4.26.1\n",
      "typed-ast                              1.5.4\n",
      "typer                                  0.7.0\n",
      "typing_extensions                      4.4.0\n",
      "tzdata                                 2022.7\n",
      "tzlocal                                4.2\n",
      "ujson                                  5.7.0\n",
      "unicodecsv                             0.14.1\n",
      "urllib3                                1.26.14\n",
      "uvicorn                                0.20.0\n",
      "validators                             0.20.0\n",
      "virtualenv                             20.19.0\n",
      "watchdog                               0.10.2\n",
      "wcwidth                                0.1.8\n",
      "webencodings                           0.5.1\n",
      "websocket-client                       0.59.0\n",
      "Werkzeug                               1.0.0\n",
      "wheel                                  0.38.4\n",
      "widgetsnbextension                     3.5.1\n",
      "wrapt                                  1.11.2\n",
      "wurlitzer                              2.0.0\n",
      "xlrd                                   1.2.0\n",
      "XlsxWriter                             1.2.7\n",
      "xlwt                                   1.3.0\n",
      "xxhash                                 3.2.0\n",
      "yapf                                   0.28.0\n",
      "yarl                                   1.8.2\n",
      "zict                                   1.0.0\n",
      "zipp                                   3.13.0\n",
      "\u001b[33mWARNING: Ignoring invalid distribution -yarrow (/opt/conda/lib/python3.7/site-packages)\u001b[0m\u001b[33m\n",
      "\u001b[0m\u001b[33mWARNING: Ignoring invalid distribution -yarrow (/opt/conda/lib/python3.7/site-packages)\u001b[0m\u001b[33m\n",
      "\u001b[0m\u001b[33mWARNING: Ignoring invalid distribution -yarrow (/opt/conda/lib/python3.7/site-packages)\u001b[0m\u001b[33m\n",
      "\u001b[0m\n",
      "\u001b[1m[\u001b[0m\u001b[34;49mnotice\u001b[0m\u001b[1;39;49m]\u001b[0m\u001b[39;49m A new release of pip is available: \u001b[0m\u001b[31;49m23.0\u001b[0m\u001b[39;49m -> \u001b[0m\u001b[32;49m23.0.1\u001b[0m\n",
      "\u001b[1m[\u001b[0m\u001b[34;49mnotice\u001b[0m\u001b[1;39;49m]\u001b[0m\u001b[39;49m To update, run: \u001b[0m\u001b[32;49mpip install --upgrade pip\u001b[0m\n"
     ]
    }
   ],
   "source": [
    "!pip list"
   ]
  },
  {
   "cell_type": "code",
   "execution_count": 18,
   "metadata": {},
   "outputs": [],
   "source": [
    "setup_dependencies_passed = True"
   ]
  },
  {
   "cell_type": "markdown",
   "metadata": {},
   "source": [
    "# Store the Variables for the Next Notebooks\n",
    "We can use these variables in the next notebooks.  For more information on %store, see the documentation here: https://ipython.readthedocs.io/en/stable/config/extensions/storemagic.html"
   ]
  },
  {
   "cell_type": "code",
   "execution_count": 19,
   "metadata": {},
   "outputs": [
    {
     "name": "stdout",
     "output_type": "stream",
     "text": [
      "Stored 'setup_dependencies_passed' (bool)\n"
     ]
    }
   ],
   "source": [
    "%store setup_dependencies_passed"
   ]
  },
  {
   "cell_type": "code",
   "execution_count": 20,
   "metadata": {},
   "outputs": [
    {
     "name": "stdout",
     "output_type": "stream",
     "text": [
      "Stored variables and their in-db values:\n",
      "ingest_create_athena_table_parquet_passed             -> True\n",
      "pipeline_endpoint_name                                -> 'model-from-registry-ep-1678040322'\n",
      "pipeline_experiment_name                              -> 'pipeline-1678038707'\n",
      "pipeline_name                                         -> 'pipeline-1678038707'\n",
      "pipeline_trial_name                                   -> 'trial-1678038707'\n",
      "role                                                  -> 'arn:aws:iam::079002598131:role/service-role/Amazo\n",
      "s3_private_path_tsv                                   -> 's3://sagemaker-us-east-1-079002598131/amazon-revi\n",
      "s3_public_path_tsv                                    -> 's3://amazon-reviews-pds/tsv'\n",
      "setup_dependencies_passed                             -> True\n"
     ]
    }
   ],
   "source": [
    "%store"
   ]
  },
  {
   "cell_type": "markdown",
   "metadata": {},
   "source": [
    "# Release Resources"
   ]
  },
  {
   "cell_type": "code",
   "execution_count": 21,
   "metadata": {},
   "outputs": [
    {
     "data": {
      "text/html": [
       "\n",
       "<p><b>Shutting down your kernel for this notebook to release resources.</b></p>\n",
       "<button class=\"sm-command-button\" data-commandlinker-command=\"kernelmenu:shutdown\" style=\"display:none;\">Shutdown Kernel</button>\n",
       "        \n",
       "<script>\n",
       "try {\n",
       "    els = document.getElementsByClassName(\"sm-command-button\");\n",
       "    els[0].click();\n",
       "}\n",
       "catch(err) {\n",
       "    // NoOp\n",
       "}    \n",
       "</script>\n"
      ],
      "text/plain": [
       "<IPython.core.display.HTML object>"
      ]
     },
     "metadata": {},
     "output_type": "display_data"
    }
   ],
   "source": [
    "%%html\n",
    "\n",
    "<p><b>Shutting down your kernel for this notebook to release resources.</b></p>\n",
    "<button class=\"sm-command-button\" data-commandlinker-command=\"kernelmenu:shutdown\" style=\"display:none;\">Shutdown Kernel</button>\n",
    "        \n",
    "<script>\n",
    "try {\n",
    "    els = document.getElementsByClassName(\"sm-command-button\");\n",
    "    els[0].click();\n",
    "}\n",
    "catch(err) {\n",
    "    // NoOp\n",
    "}    \n",
    "</script>"
   ]
  },
  {
   "cell_type": "code",
   "execution_count": null,
   "metadata": {},
   "outputs": [],
   "source": []
  }
 ],
 "metadata": {
  "availableInstances": [
   {
    "_defaultOrder": 0,
    "_isFastLaunch": true,
    "category": "General purpose",
    "gpuNum": 0,
    "memoryGiB": 4,
    "name": "ml.t3.medium",
    "vcpuNum": 2
   },
   {
    "_defaultOrder": 1,
    "_isFastLaunch": false,
    "category": "General purpose",
    "gpuNum": 0,
    "memoryGiB": 8,
    "name": "ml.t3.large",
    "vcpuNum": 2
   },
   {
    "_defaultOrder": 2,
    "_isFastLaunch": false,
    "category": "General purpose",
    "gpuNum": 0,
    "memoryGiB": 16,
    "name": "ml.t3.xlarge",
    "vcpuNum": 4
   },
   {
    "_defaultOrder": 3,
    "_isFastLaunch": false,
    "category": "General purpose",
    "gpuNum": 0,
    "memoryGiB": 32,
    "name": "ml.t3.2xlarge",
    "vcpuNum": 8
   },
   {
    "_defaultOrder": 4,
    "_isFastLaunch": true,
    "category": "General purpose",
    "gpuNum": 0,
    "memoryGiB": 8,
    "name": "ml.m5.large",
    "vcpuNum": 2
   },
   {
    "_defaultOrder": 5,
    "_isFastLaunch": false,
    "category": "General purpose",
    "gpuNum": 0,
    "memoryGiB": 16,
    "name": "ml.m5.xlarge",
    "vcpuNum": 4
   },
   {
    "_defaultOrder": 6,
    "_isFastLaunch": false,
    "category": "General purpose",
    "gpuNum": 0,
    "memoryGiB": 32,
    "name": "ml.m5.2xlarge",
    "vcpuNum": 8
   },
   {
    "_defaultOrder": 7,
    "_isFastLaunch": false,
    "category": "General purpose",
    "gpuNum": 0,
    "memoryGiB": 64,
    "name": "ml.m5.4xlarge",
    "vcpuNum": 16
   },
   {
    "_defaultOrder": 8,
    "_isFastLaunch": false,
    "category": "General purpose",
    "gpuNum": 0,
    "memoryGiB": 128,
    "name": "ml.m5.8xlarge",
    "vcpuNum": 32
   },
   {
    "_defaultOrder": 9,
    "_isFastLaunch": false,
    "category": "General purpose",
    "gpuNum": 0,
    "memoryGiB": 192,
    "name": "ml.m5.12xlarge",
    "vcpuNum": 48
   },
   {
    "_defaultOrder": 10,
    "_isFastLaunch": false,
    "category": "General purpose",
    "gpuNum": 0,
    "memoryGiB": 256,
    "name": "ml.m5.16xlarge",
    "vcpuNum": 64
   },
   {
    "_defaultOrder": 11,
    "_isFastLaunch": false,
    "category": "General purpose",
    "gpuNum": 0,
    "memoryGiB": 384,
    "name": "ml.m5.24xlarge",
    "vcpuNum": 96
   },
   {
    "_defaultOrder": 12,
    "_isFastLaunch": false,
    "category": "General purpose",
    "gpuNum": 0,
    "memoryGiB": 8,
    "name": "ml.m5d.large",
    "vcpuNum": 2
   },
   {
    "_defaultOrder": 13,
    "_isFastLaunch": false,
    "category": "General purpose",
    "gpuNum": 0,
    "memoryGiB": 16,
    "name": "ml.m5d.xlarge",
    "vcpuNum": 4
   },
   {
    "_defaultOrder": 14,
    "_isFastLaunch": false,
    "category": "General purpose",
    "gpuNum": 0,
    "memoryGiB": 32,
    "name": "ml.m5d.2xlarge",
    "vcpuNum": 8
   },
   {
    "_defaultOrder": 15,
    "_isFastLaunch": false,
    "category": "General purpose",
    "gpuNum": 0,
    "memoryGiB": 64,
    "name": "ml.m5d.4xlarge",
    "vcpuNum": 16
   },
   {
    "_defaultOrder": 16,
    "_isFastLaunch": false,
    "category": "General purpose",
    "gpuNum": 0,
    "memoryGiB": 128,
    "name": "ml.m5d.8xlarge",
    "vcpuNum": 32
   },
   {
    "_defaultOrder": 17,
    "_isFastLaunch": false,
    "category": "General purpose",
    "gpuNum": 0,
    "memoryGiB": 192,
    "name": "ml.m5d.12xlarge",
    "vcpuNum": 48
   },
   {
    "_defaultOrder": 18,
    "_isFastLaunch": false,
    "category": "General purpose",
    "gpuNum": 0,
    "memoryGiB": 256,
    "name": "ml.m5d.16xlarge",
    "vcpuNum": 64
   },
   {
    "_defaultOrder": 19,
    "_isFastLaunch": false,
    "category": "General purpose",
    "gpuNum": 0,
    "memoryGiB": 384,
    "name": "ml.m5d.24xlarge",
    "vcpuNum": 96
   },
   {
    "_defaultOrder": 20,
    "_isFastLaunch": true,
    "category": "Compute optimized",
    "gpuNum": 0,
    "memoryGiB": 4,
    "name": "ml.c5.large",
    "vcpuNum": 2
   },
   {
    "_defaultOrder": 21,
    "_isFastLaunch": false,
    "category": "Compute optimized",
    "gpuNum": 0,
    "memoryGiB": 8,
    "name": "ml.c5.xlarge",
    "vcpuNum": 4
   },
   {
    "_defaultOrder": 22,
    "_isFastLaunch": false,
    "category": "Compute optimized",
    "gpuNum": 0,
    "memoryGiB": 16,
    "name": "ml.c5.2xlarge",
    "vcpuNum": 8
   },
   {
    "_defaultOrder": 23,
    "_isFastLaunch": false,
    "category": "Compute optimized",
    "gpuNum": 0,
    "memoryGiB": 32,
    "name": "ml.c5.4xlarge",
    "vcpuNum": 16
   },
   {
    "_defaultOrder": 24,
    "_isFastLaunch": false,
    "category": "Compute optimized",
    "gpuNum": 0,
    "memoryGiB": 72,
    "name": "ml.c5.9xlarge",
    "vcpuNum": 36
   },
   {
    "_defaultOrder": 25,
    "_isFastLaunch": false,
    "category": "Compute optimized",
    "gpuNum": 0,
    "memoryGiB": 96,
    "name": "ml.c5.12xlarge",
    "vcpuNum": 48
   },
   {
    "_defaultOrder": 26,
    "_isFastLaunch": false,
    "category": "Compute optimized",
    "gpuNum": 0,
    "memoryGiB": 144,
    "name": "ml.c5.18xlarge",
    "vcpuNum": 72
   },
   {
    "_defaultOrder": 27,
    "_isFastLaunch": false,
    "category": "Compute optimized",
    "gpuNum": 0,
    "memoryGiB": 192,
    "name": "ml.c5.24xlarge",
    "vcpuNum": 96
   },
   {
    "_defaultOrder": 28,
    "_isFastLaunch": true,
    "category": "Accelerated computing",
    "gpuNum": 1,
    "memoryGiB": 16,
    "name": "ml.g4dn.xlarge",
    "vcpuNum": 4
   },
   {
    "_defaultOrder": 29,
    "_isFastLaunch": false,
    "category": "Accelerated computing",
    "gpuNum": 1,
    "memoryGiB": 32,
    "name": "ml.g4dn.2xlarge",
    "vcpuNum": 8
   },
   {
    "_defaultOrder": 30,
    "_isFastLaunch": false,
    "category": "Accelerated computing",
    "gpuNum": 1,
    "memoryGiB": 64,
    "name": "ml.g4dn.4xlarge",
    "vcpuNum": 16
   },
   {
    "_defaultOrder": 31,
    "_isFastLaunch": false,
    "category": "Accelerated computing",
    "gpuNum": 1,
    "memoryGiB": 128,
    "name": "ml.g4dn.8xlarge",
    "vcpuNum": 32
   },
   {
    "_defaultOrder": 32,
    "_isFastLaunch": false,
    "category": "Accelerated computing",
    "gpuNum": 4,
    "memoryGiB": 192,
    "name": "ml.g4dn.12xlarge",
    "vcpuNum": 48
   },
   {
    "_defaultOrder": 33,
    "_isFastLaunch": false,
    "category": "Accelerated computing",
    "gpuNum": 1,
    "memoryGiB": 256,
    "name": "ml.g4dn.16xlarge",
    "vcpuNum": 64
   },
   {
    "_defaultOrder": 34,
    "_isFastLaunch": false,
    "category": "Accelerated computing",
    "gpuNum": 1,
    "memoryGiB": 61,
    "name": "ml.p3.2xlarge",
    "vcpuNum": 8
   },
   {
    "_defaultOrder": 35,
    "_isFastLaunch": false,
    "category": "Accelerated computing",
    "gpuNum": 4,
    "memoryGiB": 244,
    "name": "ml.p3.8xlarge",
    "vcpuNum": 32
   },
   {
    "_defaultOrder": 36,
    "_isFastLaunch": false,
    "category": "Accelerated computing",
    "gpuNum": 8,
    "memoryGiB": 488,
    "name": "ml.p3.16xlarge",
    "vcpuNum": 64
   },
   {
    "_defaultOrder": 37,
    "_isFastLaunch": false,
    "category": "Accelerated computing",
    "gpuNum": 8,
    "memoryGiB": 768,
    "name": "ml.p3dn.24xlarge",
    "vcpuNum": 96
   },
   {
    "_defaultOrder": 38,
    "_isFastLaunch": false,
    "category": "Memory Optimized",
    "gpuNum": 0,
    "memoryGiB": 16,
    "name": "ml.r5.large",
    "vcpuNum": 2
   },
   {
    "_defaultOrder": 39,
    "_isFastLaunch": false,
    "category": "Memory Optimized",
    "gpuNum": 0,
    "memoryGiB": 32,
    "name": "ml.r5.xlarge",
    "vcpuNum": 4
   },
   {
    "_defaultOrder": 40,
    "_isFastLaunch": false,
    "category": "Memory Optimized",
    "gpuNum": 0,
    "memoryGiB": 64,
    "name": "ml.r5.2xlarge",
    "vcpuNum": 8
   },
   {
    "_defaultOrder": 41,
    "_isFastLaunch": false,
    "category": "Memory Optimized",
    "gpuNum": 0,
    "memoryGiB": 128,
    "name": "ml.r5.4xlarge",
    "vcpuNum": 16
   },
   {
    "_defaultOrder": 42,
    "_isFastLaunch": false,
    "category": "Memory Optimized",
    "gpuNum": 0,
    "memoryGiB": 256,
    "name": "ml.r5.8xlarge",
    "vcpuNum": 32
   },
   {
    "_defaultOrder": 43,
    "_isFastLaunch": false,
    "category": "Memory Optimized",
    "gpuNum": 0,
    "memoryGiB": 384,
    "name": "ml.r5.12xlarge",
    "vcpuNum": 48
   },
   {
    "_defaultOrder": 44,
    "_isFastLaunch": false,
    "category": "Memory Optimized",
    "gpuNum": 0,
    "memoryGiB": 512,
    "name": "ml.r5.16xlarge",
    "vcpuNum": 64
   },
   {
    "_defaultOrder": 45,
    "_isFastLaunch": false,
    "category": "Memory Optimized",
    "gpuNum": 0,
    "memoryGiB": 768,
    "name": "ml.r5.24xlarge",
    "vcpuNum": 96
   },
   {
    "_defaultOrder": 46,
    "_isFastLaunch": false,
    "category": "Accelerated computing",
    "gpuNum": 1,
    "memoryGiB": 16,
    "name": "ml.g5.xlarge",
    "vcpuNum": 4
   },
   {
    "_defaultOrder": 47,
    "_isFastLaunch": false,
    "category": "Accelerated computing",
    "gpuNum": 1,
    "memoryGiB": 32,
    "name": "ml.g5.2xlarge",
    "vcpuNum": 8
   },
   {
    "_defaultOrder": 48,
    "_isFastLaunch": false,
    "category": "Accelerated computing",
    "gpuNum": 1,
    "memoryGiB": 64,
    "name": "ml.g5.4xlarge",
    "vcpuNum": 16
   },
   {
    "_defaultOrder": 49,
    "_isFastLaunch": false,
    "category": "Accelerated computing",
    "gpuNum": 1,
    "memoryGiB": 128,
    "name": "ml.g5.8xlarge",
    "vcpuNum": 32
   },
   {
    "_defaultOrder": 50,
    "_isFastLaunch": false,
    "category": "Accelerated computing",
    "gpuNum": 1,
    "memoryGiB": 256,
    "name": "ml.g5.16xlarge",
    "vcpuNum": 64
   },
   {
    "_defaultOrder": 51,
    "_isFastLaunch": false,
    "category": "Accelerated computing",
    "gpuNum": 4,
    "memoryGiB": 192,
    "name": "ml.g5.12xlarge",
    "vcpuNum": 48
   },
   {
    "_defaultOrder": 52,
    "_isFastLaunch": false,
    "category": "Accelerated computing",
    "gpuNum": 4,
    "memoryGiB": 384,
    "name": "ml.g5.24xlarge",
    "vcpuNum": 96
   },
   {
    "_defaultOrder": 53,
    "_isFastLaunch": false,
    "category": "Accelerated computing",
    "gpuNum": 8,
    "memoryGiB": 768,
    "name": "ml.g5.48xlarge",
    "vcpuNum": 192
   }
  ],
  "instance_type": "ml.m5.2xlarge",
  "kernelspec": {
   "display_name": "Python 3 (Data Science)",
   "language": "python",
   "name": "python3__SAGEMAKER_INTERNAL__arn:aws:sagemaker:us-east-1:081325390199:image/datascience-1.0"
  },
  "language_info": {
   "codemirror_mode": {
    "name": "ipython",
    "version": 3
   },
   "file_extension": ".py",
   "mimetype": "text/x-python",
   "name": "python",
   "nbconvert_exporter": "python",
   "pygments_lexer": "ipython3",
   "version": "3.7.10"
  }
 },
 "nbformat": 4,
 "nbformat_minor": 4
}
