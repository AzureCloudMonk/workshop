{
 "cells": [
  {
   "cell_type": "code",
   "execution_count": 12,
   "id": "5756b9ac-bf41-42f3-8740-e229b916f82d",
   "metadata": {
    "tags": []
   },
   "outputs": [
    {
     "name": "stdout",
     "output_type": "stream",
     "text": [
      "Stopping session: 75f46a66-8522-469a-877e-a0c175df65ae\n",
      "Stopped session.\n"
     ]
    }
   ],
   "source": [
    "%stop_session"
   ]
  },
  {
   "cell_type": "code",
   "execution_count": 18,
   "id": "13e711d6-b13b-49e1-806e-df1b38307d37",
   "metadata": {
    "tags": []
   },
   "outputs": [
    {
     "name": "stdout",
     "output_type": "stream",
     "text": [
      "Previous Job type: glueray\n",
      "Setting new Job type to glueray\n",
      "Additional python modules to be included:\n",
      "transformers\n",
      "torch\n",
      "Setting new minimum workers: 25\n",
      "Previous number of workers: 25\n",
      "Setting new number of workers to: 25\n",
      "Setting new object_memory_worker to: 10 %\n"
     ]
    }
   ],
   "source": [
    "%glue_ray\n",
    "%additional_python_modules transformers,torch\n",
    "%min_workers 25\n",
    "%number_of_workers 25\n",
    "%object_memory_worker 10"
   ]
  },
  {
   "cell_type": "code",
   "execution_count": 1,
   "id": "8132e7ad-9c9d-4175-a3a3-1e68fc455377",
   "metadata": {
    "tags": []
   },
   "outputs": [
    {
     "name": "stdout",
     "output_type": "stream",
     "text": [
      "Authenticating with environment variables and user-defined glue_role_arn: arn:aws:iam::079002598131:role/service-role/AmazonSageMaker-ExecutionRole-20220804T150518\n",
      "Trying to create a Glue session for the kernel.\n",
      "Worker Type: Z.2X\n",
      "Number of Workers: 25\n",
      "Session ID: e5b7c6bc-9dae-4050-b655-c67696437170\n",
      "Job Type: glueray\n",
      "Applying the following default arguments:\n",
      "--glue_kernel_version 0.37.0\n",
      "--enable-glue-datacatalog true\n",
      "--auto-scaling-ray-min-workers 25\n",
      "--additional-python-modules transformers,torch\n",
      "--object_store_memory_worker 10\n",
      "Waiting for session e5b7c6bc-9dae-4050-b655-c67696437170 to get into ready status...\n",
      "Session e5b7c6bc-9dae-4050-b655-c67696437170 has been created.\n",
      "3.9.14 (main, Oct 22 2022, 00:08:38) \n",
      "[GCC 7.3.1 20180712 (Red Hat 7.3.1-15)]\n"
     ]
    }
   ],
   "source": [
    "import sys\n",
    "\n",
    "print(sys.version)"
   ]
  },
  {
   "cell_type": "code",
   "execution_count": 2,
   "id": "4e2a3a08-b22a-4db4-aac4-fae68741fa37",
   "metadata": {
    "tags": []
   },
   "outputs": [
    {
     "name": "stdout",
     "output_type": "stream",
     "text": [
      "<bound method Dataset.schema of Dataset(num_blocks=430, num_rows=160796570, schema={review_body: object})>\n"
     ]
    },
    {
     "name": "stderr",
     "output_type": "stream",
     "text": [
      "Metadata Fetch Progress:   0%|          | 0/71 [00:00<?, ?it/s]\n",
      "Metadata Fetch Progress:   1%|▏         | 1/71 [00:02<02:58,  2.55s/it]\n",
      "Metadata Fetch Progress:  10%|▉         | 7/71 [00:02<00:18,  3.55it/s]\n",
      "Metadata Fetch Progress:  15%|█▌        | 11/71 [00:03<00:15,  3.84it/s]\n",
      "Metadata Fetch Progress:  20%|█▉        | 14/71 [00:03<00:10,  5.30it/s]\n",
      "Metadata Fetch Progress:  24%|██▍       | 17/71 [00:03<00:07,  7.13it/s]\n",
      "Metadata Fetch Progress:  28%|██▊       | 20/71 [00:04<00:06,  8.42it/s]\n",
      "Metadata Fetch Progress:  32%|███▏      | 23/71 [00:04<00:04,  9.97it/s]\n",
      "Metadata Fetch Progress:  39%|███▉      | 28/71 [00:04<00:03, 13.92it/s]\n",
      "Metadata Fetch Progress:  44%|████▎     | 31/71 [00:04<00:02, 14.84it/s]\n",
      "Metadata Fetch Progress:  48%|████▊     | 34/71 [00:04<00:02, 16.15it/s]\n",
      "Metadata Fetch Progress:  52%|█████▏    | 37/71 [00:04<00:02, 15.71it/s]\n",
      "Metadata Fetch Progress:  55%|█████▍    | 39/71 [00:05<00:01, 16.26it/s]\n",
      "Metadata Fetch Progress:  58%|█████▊    | 41/71 [00:05<00:02, 13.60it/s]\n",
      "Metadata Fetch Progress:  63%|██████▎   | 45/71 [00:05<00:01, 15.79it/s]\n",
      "Metadata Fetch Progress:  70%|███████   | 50/71 [00:05<00:01, 20.13it/s]\n",
      "Metadata Fetch Progress:  76%|███████▌  | 54/71 [00:05<00:00, 19.43it/s]\n",
      "Metadata Fetch Progress:  86%|████████▌ | 61/71 [00:05<00:00, 27.12it/s]\n",
      "Metadata Fetch Progress:  92%|█████████▏| 65/71 [00:06<00:00, 11.80it/s]\n",
      "Metadata Fetch Progress:  96%|█████████▌| 68/71 [00:06<00:00, 12.50it/s]\n",
      "Metadata Fetch Progress: 100%|██████████| 71/71 [00:07<00:00, 10.01it/s]\n",
      "Read->Map_Batches: 100%|##########| 430/430 [00:24<00:00, 17.45it/s]\n"
     ]
    },
    {
     "name": "stdout",
     "output_type": "stream",
     "text": [
      "Stopping session: e5b7c6bc-9dae-4050-b655-c67696437170\n"
     ]
    }
   ],
   "source": [
    "import ray\n",
    "\n",
    "df = ray.data.read_parquet(\"s3://dsoaws/parquet/\") \\\n",
    "                          .drop_columns(cols=[\"customer_id\", \"review_id\", \"product_id\", \"product_parent\", \"product_title\", \"star_rating\", \"helpful_votes\", \"total_votes\", \"vine\", \"verified_purchase\", \"review_headline\", \"review_date\", \"year\", \"product_category\", \"marketplace\"])\n",
    "\n",
    "df.schema"
   ]
  },
  {
   "cell_type": "code",
   "execution_count": 3,
   "id": "cd93f1f8-ff36-4e8c-9203-20aca3a48225",
   "metadata": {
    "tags": []
   },
   "outputs": [
    {
     "name": "stdout",
     "output_type": "stream",
     "text": [
      "160796570\n"
     ]
    }
   ],
   "source": [
    "df.count()"
   ]
  },
  {
   "cell_type": "code",
   "execution_count": null,
   "id": "8a423eae-99a2-4466-82ab-6b26c3d53830",
   "metadata": {
    "tags": []
   },
   "outputs": [
    {
     "name": "stdout",
     "output_type": "stream",
     "text": [
      "Execution Interrupted. Attempting to cancel the statement (statement_id=476105330)\n"
     ]
    }
   ],
   "source": [
    "os.environ['TRANSFORMERS_CACHE'] = '/tmp/huggingface/'\n",
    "\n",
    "import transformers\n",
    "from transformers import AutoTokenizer\n",
    "\n",
    "model_checkpoint = \"bigscience/bloom-560m\"    \n",
    "\n",
    "tokenizer = AutoTokenizer.from_pretrained(model_checkpoint, use_fast=True, cache_dir='/tmp/huggingface/')"
   ]
  },
  {
   "cell_type": "code",
   "execution_count": null,
   "id": "e3df2f4c-fdac-4741-bb56-1132eefe8de8",
   "metadata": {},
   "outputs": [],
   "source": []
  },
  {
   "cell_type": "code",
   "execution_count": null,
   "id": "ead160e9-deb8-4be5-b9e4-29d2626605d8",
   "metadata": {},
   "outputs": [],
   "source": []
  },
  {
   "cell_type": "code",
   "execution_count": null,
   "id": "0762f451-8abf-4be6-9216-833a3a5c0b59",
   "metadata": {},
   "outputs": [],
   "source": []
  },
  {
   "cell_type": "code",
   "execution_count": null,
   "id": "2eef91a9-2f57-4bc8-97ae-8a14c4ae6f79",
   "metadata": {
    "tags": []
   },
   "outputs": [],
   "source": [
    "df_tokenized = df.limit(2).map_batches(lambda batch: tokenizer(batch))\n",
    "df_tokenized"
   ]
  },
  {
   "cell_type": "code",
   "execution_count": null,
   "id": "f782c000-0c0b-4737-9132-fff18723a4ca",
   "metadata": {
    "tags": []
   },
   "outputs": [],
   "source": [
    "df_tokenized.count()"
   ]
  },
  {
   "cell_type": "code",
   "execution_count": null,
   "id": "a2f45f0d-0ccc-4e4b-8024-8525a16fb601",
   "metadata": {
    "tags": []
   },
   "outputs": [],
   "source": [
    "df_train, df_validation = df_tokenized.train_test_split(test_size=0.2)\n",
    "\n",
    "print(f'Train dataset size is {df_train.count()} and validation dataset size is {df_validation.count()}.')"
   ]
  },
  {
   "cell_type": "code",
   "execution_count": null,
   "id": "2a88c2e6-a1e8-485d-ab96-84e54237400e",
   "metadata": {
    "tags": []
   },
   "outputs": [],
   "source": [
    "df_tokenized.show()"
   ]
  },
  {
   "cell_type": "code",
   "execution_count": null,
   "id": "d7426b3c-c18e-4c07-b010-07650551f426",
   "metadata": {
    "tags": []
   },
   "outputs": [],
   "source": [
    "# num_workers = 100\n",
    "# df_train.repartition(num_workers)\n",
    "# df_validation.repartition(num_workers)"
   ]
  },
  {
   "cell_type": "code",
   "execution_count": null,
   "id": "339364a3-c766-49b6-b97d-128e448dc665",
   "metadata": {
    "tags": []
   },
   "outputs": [],
   "source": [
    "# !aws s3 rm --recursive s3://dsoaws/data-bloom/"
   ]
  },
  {
   "cell_type": "code",
   "execution_count": null,
   "id": "0ca48dbb-e005-4127-a5ed-9dced3c4afbb",
   "metadata": {},
   "outputs": [],
   "source": [
    "df_train.write_json('s3://dsoaws/data-bloom/train', try_create_dir=True) #, cache_dir='/tmp/huggingface')\n",
    "df_validation.write_json('s3://dsoaws/data-bloom/validation', try_create_dir=True) # , cache_dir='/tmp/huggingface')"
   ]
  },
  {
   "cell_type": "code",
   "execution_count": null,
   "id": "c4e49791-3bbf-4a02-b417-88b3a050d15c",
   "metadata": {},
   "outputs": [],
   "source": []
  }
 ],
 "metadata": {
  "instance_type": "ml.t3.medium",
  "kernelspec": {
   "display_name": "Glue Python [PySpark and Ray] (SparkAnalytics 1.0)",
   "language": "python",
   "name": "conda-env-sm_glue_is-glue_pyspark__SAGEMAKER_INTERNAL__arn:aws:sagemaker:us-east-1:081325390199:image/sagemaker-sparkanalytics-v1"
  },
  "language_info": {
   "codemirror_mode": {
    "name": "python",
    "version": 3
   },
   "file_extension": ".py",
   "mimetype": "text/x-python",
   "name": "Python_Glue_Session",
   "pygments_lexer": "python3"
  }
 },
 "nbformat": 4,
 "nbformat_minor": 5
}
